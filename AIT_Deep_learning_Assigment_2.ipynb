{
  "nbformat": 4,
  "nbformat_minor": 0,
  "metadata": {
    "kernelspec": {
      "display_name": "Python 3",
      "language": "python",
      "name": "python3"
    },
    "language_info": {
      "codemirror_mode": {
        "name": "ipython",
        "version": 3
      },
      "file_extension": ".py",
      "mimetype": "text/x-python",
      "name": "python",
      "nbconvert_exporter": "python",
      "pygments_lexer": "ipython3",
      "version": "3.6.6"
    },
    "colab": {
      "name": "AIT-Deep-learning-Assigment-2 másolata másolata",
      "provenance": [],
      "collapsed_sections": [],
      "include_colab_link": true
    },
    "accelerator": "GPU"
  },
  "cells": [
    {
      "cell_type": "markdown",
      "metadata": {
        "id": "view-in-github",
        "colab_type": "text"
      },
      "source": [
        "<a href=\"https://colab.research.google.com/github/Egoago/AIT-Assignment-II/blob/main/AIT_Deep_learning_Assigment_2.ipynb\" target=\"_parent\"><img src=\"https://colab.research.google.com/assets/colab-badge.svg\" alt=\"Open In Colab\"/></a>"
      ]
    },
    {
      "cell_type": "markdown",
      "metadata": {
        "id": "_jiGtJu6u9ml"
      },
      "source": [
        "# Copyright\n",
        "\n",
        "<PRE>\n",
        "Copyright (c) 2021 Bálint Gyires-Tóth - All Rights Reserved\n",
        "You may use and modify this code for research and development purpuses.\n",
        "Use this code for educational purposes (self-paced or instructor led) without the permission of the author is prohibited.\n",
        "</PRE>"
      ]
    },
    {
      "cell_type": "markdown",
      "metadata": {
        "id": "oXyFC44jV-PP"
      },
      "source": [
        "# Author classification\n",
        "The task is to train a 1D CNN or an LSTM that is able to  classify text from two authors. The final model should be able to tell about a text with a given length (e.g. 60 characters) who wrote it. \n",
        "\n",
        "Please write the codes according to the following parts:"
      ]
    },
    {
      "cell_type": "markdown",
      "metadata": {
        "id": "jCnLoeGrHXsp"
      },
      "source": [
        "## Python module imports\n",
        "Import all Python modules that you would need during the Assignment."
      ]
    },
    {
      "cell_type": "code",
      "metadata": {
        "id": "7itbFGt3HXVT"
      },
      "source": [
        "import numpy as np\n",
        "import keras\n",
        "import string\n",
        "import gc\n",
        "import pandas\n",
        "from tensorflow.keras.models import Sequential\n",
        "from tensorflow.keras.layers import Dense, Activation, LSTM\n",
        "from tensorflow.keras.callbacks import EarlyStopping\n",
        "from tensorflow.keras.initializers import GlorotNormal\n",
        "from urllib.request import urlretrieve, urlopen\n",
        "from collections import Counter, OrderedDict\n",
        "from matplotlib import pyplot as plt\n",
        "from sklearn.metrics import confusion_matrix\n",
        "import seaborn as sns"
      ],
      "execution_count": 1,
      "outputs": []
    },
    {
      "cell_type": "markdown",
      "metadata": {
        "id": "Hr617tEpHd8R"
      },
      "source": [
        "## Data acquisition\n",
        "Seek a possible dataset, you can use any source, e.g.\n",
        "* http://www.gutenberg.org/\n",
        "* https://www.kaggle.com/datasets\n",
        "* https://paperswithcode.com/datasets\n",
        "* if you would like to learn Hungarian, than e.g. https://mek.oszk.hu/\n",
        "\n",
        "You can download the text by hand (e.g. by copy-pasting some parts into txt files) or with Python. "
      ]
    },
    {
      "cell_type": "code",
      "metadata": {
        "id": "NgkdQxHqHdZB",
        "colab": {
          "base_uri": "https://localhost:8080/",
          "height": 410
        },
        "outputId": "468e9b93-f9ce-41ca-cb64-ca3cefbf343b"
      },
      "source": [
        "def loadText(url):\n",
        "  file = urlopen(\"http://www.gutenberg.org/\"+url)\n",
        "  text = file.read().decode('utf-8').lower()\n",
        "  file.close()\n",
        "  text = text[2500:len(text)-20000] #the beginning end of the texts contains no relevant information\n",
        "  return text\n",
        "\n",
        "# Books from Jane Austen\n",
        "jane = loadText(\"cache/epub/42671/pg42671.txt\")  #Pride and Prejudice\n",
        "jane += loadText(\"files/161/161-0.txt\")          #Sense and Sensibility\n",
        "# Books from William Shakespeare\n",
        "william = loadText(\"cache/epub/1121/pg1121.txt\") #As You Like It\n",
        "william += loadText(\"cache/epub/1118/pg1118.txt\")#Much Ado About Nothing\n",
        "william += loadText(\"cache/epub/1795/pg1795.txt\")#Macbeth\n",
        "william += loadText(\"cache/epub/1107/pg1107.txt\")#Taming of The Shrew\n",
        "william += loadText(\"cache/epub/1135/pg1135.txt\")#Tempest\n",
        "william += loadText(\"cache/epub/1787/pg1787.txt\")#Hamlet\n",
        "william += loadText(\"cache/epub/1785/pg1785.txt\")#Julius Caesar\n",
        "william += loadText(\"cache/epub/1114/pg1114.txt\")#The Merchant of Venice\n",
        "william += loadText(\"cache/epub/1108/pg1108.txt\")#The Two Gentlemen of Verona\n",
        "william += loadText(\"cache/epub/1793/pg1793.txt\")#Othello\n",
        "william += loadText(\"cache/epub/1125/pg1125.txt\")#All's Well That Ends Well\n",
        "\n",
        "letter_counts = OrderedDict(Counter(jane + william).most_common()) #count character distribution\n",
        "df = pandas.DataFrame.from_dict(letter_counts, orient='index')\n",
        "rareChars = df.loc[(df[0]<200)] #rare, unsignificant characters\n",
        "for c in rareChars.index: #keep numbers, no matter how rare they are\n",
        "  if c in string.digits:\n",
        "    rareChars = rareChars.drop(c)\n",
        "for c in list(rareChars.index)+list(['\\n','\\r']): #delete unwanted characters\n",
        "  df = df.drop(c)\n",
        "  jane = jane.replace(c,'')\n",
        "  william = william.replace(c,'')\n",
        "\n",
        "print('Number of characters from Austen:', len(jane))\n",
        "print('Number of characters from Shakespeare:', len(william))\n",
        "df.plot(kind='bar', figsize = (18,6));"
      ],
      "execution_count": 2,
      "outputs": [
        {
          "output_type": "stream",
          "text": [
            "Number of characters from Austen: 1331583\n",
            "Number of characters from Shakespeare: 1376978\n"
          ],
          "name": "stdout"
        },
        {
          "output_type": "display_data",
          "data": {
            "image/png": "[encoded data removed]",
            "text/plain": [
              "<Figure size 1296x432 with 1 Axes>"
            ]
          },
          "metadata": {
            "tags": [],
            "needs_background": "light"
          }
        }
      ]
    },
    {
      "cell_type": "markdown",
      "metadata": {
        "id": "cHyE_ndGIblJ"
      },
      "source": [
        "## Data loading, labeling and preprocessing\n",
        "Load the data and convert the characters into one-hot encodings. Then load the data into a 3D NumPy array, with a shape of\n",
        "\n",
        "* (batch, sequence_length, alphabet_length)\n",
        "\n",
        "where sequence_length=60, and alphabet_length equals to the number of unique characters in both datasets. The sequences should be cut out from the complete dataset by sliding window. You should add 0 and 1 labels to the sequences, according to the author. \n",
        "\n",
        "Later you may change sequence_length to achieve better results!"
      ]
    },
    {
      "cell_type": "code",
      "metadata": {
        "id": "arooXt0WIb6x",
        "colab": {
          "base_uri": "https://localhost:8080/"
        },
        "outputId": "a70d3887-4928-45f2-9bbb-02d388be6566"
      },
      "source": [
        "chars = sorted(list(set(jane + william)))\n",
        "char_indices = dict((c, i) for i, c in enumerate(chars))\n",
        "indices_char = dict((i, c) for i, c in enumerate(chars))\n",
        "num_author = {0: \"Jane Austen\", 1: \"William Shakespeare\"}\n",
        "author_num = {\"Jane Austen\" : 0, \"William Shakespeare\": 1}\n",
        "alphabet_length = len(chars)\n",
        "\n",
        "sequence_length = 90\n",
        "step = 18\n",
        "sentences  = []\n",
        "author = [] # 0 - jane 1 - william\n",
        "#cut out sentences and label them\n",
        "for i in range(0, len(jane)-sequence_length, step):\n",
        "    sentences.append(jane[i:i+sequence_length])\n",
        "    author.append(author_num[\"Jane Austen\"])\n",
        "del jane\n",
        "for i in range(0, len(william)-sequence_length, step):\n",
        "    sentences.append(william[i:i+sequence_length])\n",
        "    author.append(author_num[\"William Shakespeare\"])\n",
        "del william #important, because of insufficient CPU RAM\n",
        "\n",
        "batches = len(sentences)\n",
        "p = np.random.default_rng(1).permutation(batches)  #shuffle with indexes, this is a more memory efficent way than sklearn\n",
        "#need to shuffle before splitting\n",
        "X = np.zeros((batches, sequence_length, alphabet_length))\n",
        "Y = np.zeros(batches)\n",
        "for i, sentence in enumerate(sentences):\n",
        "    for t, char in enumerate(sentence): \n",
        "        X[p[i],t,char_indices[char]] = 1  #one-hot encoding\n",
        "        Y[p[i]] = author[i]               #just copying labels with shuffling in mind\n",
        "\n",
        "del author\n",
        "del sentences\n",
        "gc.collect() #memory preservation again..\n",
        "\n",
        "print (\"Shape of the input data:\", X.shape)\n",
        "print (\"Shape of the target data:\", Y.shape)"
      ],
      "execution_count": 3,
      "outputs": [
        {
          "output_type": "stream",
          "text": [
            "Shape of the input data: (150466, 90, 56)\n",
            "Shape of the target data: (150466,)\n"
          ],
          "name": "stdout"
        }
      ]
    },
    {
      "cell_type": "markdown",
      "metadata": {
        "id": "lL1Mc8ibHnep"
      },
      "source": [
        "## Data splitting\n",
        "Split the data into train, validate and test sets."
      ]
    },
    {
      "cell_type": "code",
      "metadata": {
        "id": "ELyG9XFUHrkB"
      },
      "source": [
        "valid_split = 0.1\n",
        "test_split  = 0.1\n",
        "\n",
        "v_point = int(batches*(1-valid_split-test_split))\n",
        "t_point = int(batches*(1-test_split))\n",
        "\n",
        "X_train = X[0:v_point]\n",
        "Y_train = Y[0:v_point]\n",
        "X_valid = X[v_point: t_point]\n",
        "Y_valid = Y[v_point: t_point]\n",
        "X_test  = X[t_point:]\n",
        "Y_test  = Y[t_point:]\n",
        "del X\n",
        "del Y\n",
        "gc.collect();  #and again.."
      ],
      "execution_count": 4,
      "outputs": []
    },
    {
      "cell_type": "markdown",
      "metadata": {
        "id": "hA8U9tr7HrNQ"
      },
      "source": [
        "## Model definition\n",
        "Define a 1D CNN or an LSTM for the task. Compile the model with the correct loss function."
      ]
    },
    {
      "cell_type": "code",
      "metadata": {
        "id": "BT1V1s4kHuUe",
        "colab": {
          "base_uri": "https://localhost:8080/",
          "height": 139
        },
        "outputId": "6a0ef0e7-2add-4509-85f3-792371fc48da"
      },
      "source": [
        "model = Sequential()\n",
        "#tried CNN and biderictional layers as well, but LSTM turned out to be the best\n",
        "model.add(LSTM(128, input_shape=(X_train.shape[-2], X_train.shape[-1])))\n",
        "model.add(Dense(1, kernel_initializer=GlorotNormal()))\n",
        "model.add(Activation(\"sigmoid\"))\n",
        "\n",
        "model.compile(loss='binary_crossentropy', optimizer='adam', metrics=['accuracy'])\n",
        "print(f'Trainable variables: {np.sum([np.prod(v.get_shape().as_list()) for v in model.trainable_variables])}') \n",
        "keras.utils.plot_model(model, show_shapes=True, show_layer_names=False, rankdir='LR') #I just like this representation better"
      ],
      "execution_count": 5,
      "outputs": [
        {
          "output_type": "stream",
          "text": [
            "Trainable variables: 94849\n"
          ],
          "name": "stdout"
        },
        {
          "output_type": "execute_result",
          "data": {
            "image/png": "[encoded data removed]",
            "text/plain": [
              "<IPython.core.display.Image object>"
            ]
          },
          "metadata": {
            "tags": []
          },
          "execution_count": 5
        }
      ]
    },
    {
      "cell_type": "markdown",
      "metadata": {
        "id": "hWFb-nAMHuAI"
      },
      "source": [
        "## Model training\n",
        "Train the model and apply early stopping."
      ]
    },
    {
      "cell_type": "code",
      "metadata": {
        "id": "dvgKjqp3Hwkp",
        "colab": {
          "base_uri": "https://localhost:8080/",
          "height": 1000
        },
        "outputId": "1ee765f1-71b7-46ad-f2b7-027cc7f090d7"
      },
      "source": [
        "#takes some time, might need a GPU for this part\n",
        "es = EarlyStopping(patience=15, min_delta=1e-4, verbose=2, restore_best_weights=True)\n",
        "network_history = model.fit(X_train, Y_train,\n",
        "          batch_size=512,\n",
        "          epochs=100,\n",
        "          verbose=2,\n",
        "          validation_data=(X_valid,Y_valid),\n",
        "          callbacks=[es],\n",
        "          shuffle= True)\n",
        "#some feedback\n",
        "plt.figure(figsize=(15,5))\n",
        "plt.xlabel('Epochs')\n",
        "plt.ylabel('Loss')\n",
        "plt.plot(network_history.history['loss'])\n",
        "plt.plot(network_history.history['val_loss'])\n",
        "plt.legend(['Training', 'Validation']);"
      ],
      "execution_count": 6,
      "outputs": [
        {
          "output_type": "stream",
          "text": [
            "Epoch 1/100\n",
            "236/236 - 29s - loss: 0.2719 - accuracy: 0.8978 - val_loss: 0.2049 - val_accuracy: 0.9325\n",
            "Epoch 2/100\n",
            "236/236 - 4s - loss: 0.1917 - accuracy: 0.9411 - val_loss: 0.1628 - val_accuracy: 0.9547\n",
            "Epoch 3/100\n",
            "236/236 - 4s - loss: 0.1345 - accuracy: 0.9605 - val_loss: 0.1171 - val_accuracy: 0.9652\n",
            "Epoch 4/100\n",
            "236/236 - 4s - loss: 0.1078 - accuracy: 0.9676 - val_loss: 0.0951 - val_accuracy: 0.9708\n",
            "Epoch 5/100\n",
            "236/236 - 4s - loss: 0.0821 - accuracy: 0.9719 - val_loss: 0.0883 - val_accuracy: 0.9743\n",
            "Epoch 6/100\n",
            "236/236 - 4s - loss: 0.0501 - accuracy: 0.9838 - val_loss: 0.0371 - val_accuracy: 0.9894\n",
            "Epoch 7/100\n",
            "236/236 - 4s - loss: 0.0361 - accuracy: 0.9892 - val_loss: 0.0378 - val_accuracy: 0.9925\n",
            "Epoch 8/100\n",
            "236/236 - 4s - loss: 0.0328 - accuracy: 0.9909 - val_loss: 0.0292 - val_accuracy: 0.9907\n",
            "Epoch 9/100\n",
            "236/236 - 4s - loss: 0.0229 - accuracy: 0.9935 - val_loss: 0.0224 - val_accuracy: 0.9934\n",
            "Epoch 10/100\n",
            "236/236 - 4s - loss: 0.0210 - accuracy: 0.9944 - val_loss: 0.0639 - val_accuracy: 0.9759\n",
            "Epoch 11/100\n",
            "236/236 - 4s - loss: 0.0166 - accuracy: 0.9954 - val_loss: 0.0203 - val_accuracy: 0.9940\n",
            "Epoch 12/100\n",
            "236/236 - 4s - loss: 0.0174 - accuracy: 0.9950 - val_loss: 0.0174 - val_accuracy: 0.9945\n",
            "Epoch 13/100\n",
            "236/236 - 4s - loss: 0.0140 - accuracy: 0.9962 - val_loss: 0.0211 - val_accuracy: 0.9938\n",
            "Epoch 14/100\n",
            "236/236 - 4s - loss: 0.0135 - accuracy: 0.9963 - val_loss: 0.0114 - val_accuracy: 0.9967\n",
            "Epoch 15/100\n",
            "236/236 - 4s - loss: 0.0120 - accuracy: 0.9969 - val_loss: 0.0088 - val_accuracy: 0.9973\n",
            "Epoch 16/100\n",
            "236/236 - 4s - loss: 0.0097 - accuracy: 0.9975 - val_loss: 0.0121 - val_accuracy: 0.9969\n",
            "Epoch 17/100\n",
            "236/236 - 4s - loss: 0.0087 - accuracy: 0.9976 - val_loss: 0.0084 - val_accuracy: 0.9979\n",
            "Epoch 18/100\n",
            "236/236 - 4s - loss: 0.0095 - accuracy: 0.9973 - val_loss: 0.0081 - val_accuracy: 0.9979\n",
            "Epoch 19/100\n",
            "236/236 - 4s - loss: 0.0066 - accuracy: 0.9985 - val_loss: 0.0102 - val_accuracy: 0.9972\n",
            "Epoch 20/100\n",
            "236/236 - 4s - loss: 0.0063 - accuracy: 0.9985 - val_loss: 0.0093 - val_accuracy: 0.9973\n",
            "Epoch 21/100\n",
            "236/236 - 4s - loss: 0.0120 - accuracy: 0.9963 - val_loss: 0.0075 - val_accuracy: 0.9981\n",
            "Epoch 22/100\n",
            "236/236 - 4s - loss: 0.0070 - accuracy: 0.9982 - val_loss: 0.0067 - val_accuracy: 0.9982\n",
            "Epoch 23/100\n",
            "236/236 - 4s - loss: 0.0044 - accuracy: 0.9988 - val_loss: 0.0082 - val_accuracy: 0.9977\n",
            "Epoch 24/100\n",
            "236/236 - 4s - loss: 0.0059 - accuracy: 0.9986 - val_loss: 0.0051 - val_accuracy: 0.9987\n",
            "Epoch 25/100\n",
            "236/236 - 4s - loss: 0.0042 - accuracy: 0.9989 - val_loss: 0.0057 - val_accuracy: 0.9981\n",
            "Epoch 26/100\n",
            "236/236 - 4s - loss: 0.0046 - accuracy: 0.9987 - val_loss: 0.0116 - val_accuracy: 0.9958\n",
            "Epoch 27/100\n",
            "236/236 - 4s - loss: 0.0037 - accuracy: 0.9990 - val_loss: 0.0041 - val_accuracy: 0.9989\n",
            "Epoch 28/100\n",
            "236/236 - 4s - loss: 0.0042 - accuracy: 0.9988 - val_loss: 0.0050 - val_accuracy: 0.9987\n",
            "Epoch 29/100\n",
            "236/236 - 4s - loss: 0.0056 - accuracy: 0.9983 - val_loss: 0.0057 - val_accuracy: 0.9985\n",
            "Epoch 30/100\n",
            "236/236 - 4s - loss: 0.0039 - accuracy: 0.9989 - val_loss: 0.0161 - val_accuracy: 0.9949\n",
            "Epoch 31/100\n",
            "236/236 - 4s - loss: 0.0042 - accuracy: 0.9989 - val_loss: 0.0046 - val_accuracy: 0.9987\n",
            "Epoch 32/100\n",
            "236/236 - 4s - loss: 0.0042 - accuracy: 0.9989 - val_loss: 0.0041 - val_accuracy: 0.9986\n",
            "Epoch 33/100\n",
            "236/236 - 4s - loss: 0.0042 - accuracy: 0.9988 - val_loss: 0.0050 - val_accuracy: 0.9986\n",
            "Epoch 34/100\n",
            "236/236 - 4s - loss: 0.0022 - accuracy: 0.9993 - val_loss: 0.0034 - val_accuracy: 0.9990\n",
            "Epoch 35/100\n",
            "236/236 - 4s - loss: 0.0030 - accuracy: 0.9991 - val_loss: 0.0126 - val_accuracy: 0.9962\n",
            "Epoch 36/100\n",
            "236/236 - 4s - loss: 0.0050 - accuracy: 0.9985 - val_loss: 0.0046 - val_accuracy: 0.9987\n",
            "Epoch 37/100\n",
            "236/236 - 4s - loss: 0.0016 - accuracy: 0.9995 - val_loss: 0.0061 - val_accuracy: 0.9980\n",
            "Epoch 38/100\n",
            "236/236 - 4s - loss: 0.0027 - accuracy: 0.9992 - val_loss: 0.0029 - val_accuracy: 0.9991\n",
            "Epoch 39/100\n",
            "236/236 - 4s - loss: 0.0014 - accuracy: 0.9996 - val_loss: 0.0030 - val_accuracy: 0.9989\n",
            "Epoch 40/100\n",
            "236/236 - 4s - loss: 0.0071 - accuracy: 0.9982 - val_loss: 0.0216 - val_accuracy: 0.9942\n",
            "Epoch 41/100\n",
            "236/236 - 4s - loss: 0.0057 - accuracy: 0.9984 - val_loss: 0.0077 - val_accuracy: 0.9975\n",
            "Epoch 42/100\n",
            "236/236 - 4s - loss: 0.0014 - accuracy: 0.9997 - val_loss: 0.0049 - val_accuracy: 0.9983\n",
            "Epoch 43/100\n",
            "236/236 - 4s - loss: 0.0020 - accuracy: 0.9995 - val_loss: 0.0031 - val_accuracy: 0.9991\n",
            "Epoch 44/100\n",
            "236/236 - 4s - loss: 0.0015 - accuracy: 0.9996 - val_loss: 0.0035 - val_accuracy: 0.9991\n",
            "Epoch 45/100\n",
            "236/236 - 4s - loss: 0.0013 - accuracy: 0.9997 - val_loss: 0.0089 - val_accuracy: 0.9978\n",
            "Epoch 46/100\n",
            "236/236 - 4s - loss: 0.0016 - accuracy: 0.9995 - val_loss: 0.0038 - val_accuracy: 0.9989\n",
            "Epoch 47/100\n",
            "236/236 - 4s - loss: 0.0014 - accuracy: 0.9996 - val_loss: 0.0060 - val_accuracy: 0.9982\n",
            "Epoch 48/100\n",
            "236/236 - 4s - loss: 0.0042 - accuracy: 0.9989 - val_loss: 0.0318 - val_accuracy: 0.9949\n",
            "Epoch 49/100\n",
            "236/236 - 4s - loss: 0.0052 - accuracy: 0.9987 - val_loss: 0.0025 - val_accuracy: 0.9993\n",
            "Epoch 50/100\n",
            "236/236 - 4s - loss: 0.0015 - accuracy: 0.9996 - val_loss: 0.0024 - val_accuracy: 0.9993\n",
            "Epoch 51/100\n",
            "236/236 - 4s - loss: 7.3362e-04 - accuracy: 0.9999 - val_loss: 0.0021 - val_accuracy: 0.9995\n",
            "Epoch 52/100\n",
            "236/236 - 4s - loss: 4.3852e-04 - accuracy: 0.9999 - val_loss: 0.0015 - val_accuracy: 0.9995\n",
            "Epoch 53/100\n",
            "236/236 - 4s - loss: 3.3280e-04 - accuracy: 0.9999 - val_loss: 8.6941e-04 - val_accuracy: 0.9997\n",
            "Epoch 54/100\n",
            "236/236 - 4s - loss: 1.3940e-04 - accuracy: 1.0000 - val_loss: 6.1844e-04 - val_accuracy: 0.9997\n",
            "Epoch 55/100\n",
            "236/236 - 4s - loss: 1.0047e-04 - accuracy: 1.0000 - val_loss: 9.1065e-04 - val_accuracy: 0.9996\n",
            "Epoch 56/100\n",
            "236/236 - 4s - loss: 3.1415e-04 - accuracy: 1.0000 - val_loss: 0.0016 - val_accuracy: 0.9997\n",
            "Epoch 57/100\n",
            "236/236 - 4s - loss: 0.0025 - accuracy: 0.9993 - val_loss: 0.0030 - val_accuracy: 0.9991\n",
            "Epoch 58/100\n",
            "236/236 - 4s - loss: 0.0027 - accuracy: 0.9992 - val_loss: 0.0049 - val_accuracy: 0.9987\n",
            "Epoch 59/100\n",
            "236/236 - 4s - loss: 0.0016 - accuracy: 0.9996 - val_loss: 0.0012 - val_accuracy: 0.9994\n",
            "Epoch 60/100\n",
            "236/236 - 4s - loss: 6.1095e-04 - accuracy: 0.9998 - val_loss: 6.0920e-04 - val_accuracy: 0.9998\n",
            "Epoch 61/100\n",
            "236/236 - 4s - loss: 5.8138e-04 - accuracy: 0.9998 - val_loss: 0.0017 - val_accuracy: 0.9996\n",
            "Epoch 62/100\n",
            "236/236 - 4s - loss: 6.3738e-04 - accuracy: 0.9998 - val_loss: 0.0044 - val_accuracy: 0.9986\n",
            "Epoch 63/100\n",
            "236/236 - 4s - loss: 0.0029 - accuracy: 0.9992 - val_loss: 0.0058 - val_accuracy: 0.9985\n",
            "Epoch 64/100\n",
            "236/236 - 4s - loss: 0.0012 - accuracy: 0.9997 - val_loss: 7.8307e-04 - val_accuracy: 0.9997\n",
            "Epoch 65/100\n",
            "236/236 - 4s - loss: 8.9908e-04 - accuracy: 0.9998 - val_loss: 0.0015 - val_accuracy: 0.9995\n",
            "Epoch 66/100\n",
            "236/236 - 4s - loss: 0.0011 - accuracy: 0.9997 - val_loss: 0.0026 - val_accuracy: 0.9992\n",
            "Epoch 67/100\n",
            "236/236 - 4s - loss: 7.4865e-04 - accuracy: 0.9998 - val_loss: 0.0012 - val_accuracy: 0.9997\n",
            "Epoch 68/100\n",
            "236/236 - 4s - loss: 3.2626e-04 - accuracy: 0.9999 - val_loss: 8.7015e-04 - val_accuracy: 0.9997\n",
            "Epoch 69/100\n",
            "236/236 - 4s - loss: 6.5883e-05 - accuracy: 1.0000 - val_loss: 4.8403e-04 - val_accuracy: 0.9999\n",
            "Epoch 70/100\n",
            "236/236 - 4s - loss: 4.9387e-05 - accuracy: 1.0000 - val_loss: 6.3347e-04 - val_accuracy: 0.9999\n",
            "Epoch 71/100\n",
            "236/236 - 4s - loss: 0.0026 - accuracy: 0.9993 - val_loss: 0.0036 - val_accuracy: 0.9993\n",
            "Epoch 72/100\n",
            "236/236 - 4s - loss: 0.0012 - accuracy: 0.9996 - val_loss: 0.0028 - val_accuracy: 0.9993\n",
            "Epoch 73/100\n",
            "236/236 - 4s - loss: 0.0012 - accuracy: 0.9997 - val_loss: 0.0036 - val_accuracy: 0.9988\n",
            "Epoch 74/100\n",
            "236/236 - 4s - loss: 5.2145e-04 - accuracy: 0.9999 - val_loss: 5.9749e-04 - val_accuracy: 0.9996\n",
            "Epoch 75/100\n",
            "236/236 - 4s - loss: 1.8213e-04 - accuracy: 1.0000 - val_loss: 0.0012 - val_accuracy: 0.9999\n",
            "Epoch 76/100\n",
            "236/236 - 4s - loss: 7.3913e-05 - accuracy: 1.0000 - val_loss: 7.6148e-04 - val_accuracy: 0.9999\n",
            "Epoch 77/100\n",
            "236/236 - 4s - loss: 8.8772e-04 - accuracy: 0.9998 - val_loss: 0.0036 - val_accuracy: 0.9988\n",
            "Epoch 78/100\n",
            "236/236 - 4s - loss: 7.0862e-04 - accuracy: 0.9998 - val_loss: 0.0074 - val_accuracy: 0.9983\n",
            "Epoch 79/100\n",
            "236/236 - 4s - loss: 0.0013 - accuracy: 0.9997 - val_loss: 7.7008e-04 - val_accuracy: 0.9997\n",
            "Epoch 80/100\n",
            "236/236 - 4s - loss: 9.3478e-04 - accuracy: 0.9996 - val_loss: 0.0030 - val_accuracy: 0.9993\n",
            "Epoch 81/100\n",
            "236/236 - 4s - loss: 0.0039 - accuracy: 0.9990 - val_loss: 0.0020 - val_accuracy: 0.9995\n",
            "Epoch 82/100\n",
            "236/236 - 4s - loss: 3.0257e-04 - accuracy: 0.9999 - val_loss: 0.0013 - val_accuracy: 0.9997\n",
            "Epoch 83/100\n",
            "236/236 - 4s - loss: 5.4497e-05 - accuracy: 1.0000 - val_loss: 0.0012 - val_accuracy: 0.9997\n",
            "Epoch 84/100\n",
            "236/236 - 4s - loss: 1.3267e-04 - accuracy: 1.0000 - val_loss: 0.0017 - val_accuracy: 0.9997\n",
            "Restoring model weights from the end of the best epoch.\n",
            "Epoch 00084: early stopping\n"
          ],
          "name": "stdout"
        },
        {
          "output_type": "display_data",
          "data": {
            "image/png": "[encoded data removed]",
            "text/plain": [
              "<Figure size 1080x360 with 1 Axes>"
            ]
          },
          "metadata": {
            "tags": [],
            "needs_background": "light"
          }
        }
      ]
    },
    {
      "cell_type": "markdown",
      "metadata": {
        "id": "0omw2XzSHwOo"
      },
      "source": [
        "## Evaluation on test data\n",
        "Evaluate the model on the test data in terms of loss and accuracy."
      ]
    },
    {
      "cell_type": "code",
      "metadata": {
        "id": "4bF3dQA1Hv_R",
        "colab": {
          "base_uri": "https://localhost:8080/"
        },
        "outputId": "368fb88a-8386-453d-ff1f-3667a2afae9d"
      },
      "source": [
        "loss, acc = model.evaluate(X_test,Y_test, verbose = 0)\n",
        "y_pred = model.predict(X_test)\n",
        "print(f'test loss: {loss}')\n",
        "print(f'test accuracy: {acc}')"
      ],
      "execution_count": 7,
      "outputs": [
        {
          "output_type": "stream",
          "text": [
            "test loss: 0.0025497921742498875\n",
            "test accuracy: 0.9996012449264526\n"
          ],
          "name": "stdout"
        }
      ]
    },
    {
      "cell_type": "markdown",
      "metadata": {
        "id": "4Y73Q-h5Hz1r"
      },
      "source": [
        "## Confusion matrix\n",
        "Calculate and display the confusion matrix."
      ]
    },
    {
      "cell_type": "code",
      "metadata": {
        "id": "cW8zZi1uJm2B",
        "colab": {
          "base_uri": "https://localhost:8080/",
          "height": 796
        },
        "outputId": "0a5d836b-a345-4df5-ba31-a38a60d2f7e5"
      },
      "source": [
        "y_pred = np.rint(y_pred.reshape(Y_test.size)) #convert guesses to labels\n",
        "y_true = Y_test\n",
        "\n",
        "print(\"\\nConfusion matrix: \")\n",
        "conf=confusion_matrix(y_true, y_pred)\n",
        "\n",
        "plt.figure(figsize=(10,10))\n",
        "sns.heatmap(conf, annot=True, fmt='d', annot_kws={\"size\": 16}, linewidth=10,\n",
        "            yticklabels=num_author.values(),\n",
        "            xticklabels=num_author.values())\n",
        "plt.xlabel(\"prediction\", fontsize=18) \n",
        "plt.ylabel(\"reference\", fontsize=18)\n",
        "plt.show()\n",
        "\n",
        "#show problematic cases\n",
        "FP = []\n",
        "FN = []\n",
        "TP = []\n",
        "TN = []\n",
        "for i in range(y_true.size):  #sort indexes to confusion matrix categories\n",
        "  if y_pred[i] == 0:\n",
        "    if y_true[i] == 0:\n",
        "      TN.append(i)\n",
        "    else:\n",
        "      FN.append(i)\n",
        "  else:\n",
        "    if y_true[i] == 1:\n",
        "      TP.append(i)\n",
        "    else:\n",
        "      FP.append(i)\n",
        "def onehotToText(oneHotSentence):\n",
        "  sentence = ''\n",
        "  for onehotChar in oneHotSentence:\n",
        "    index = np.argmax(onehotChar)\n",
        "    sentence += indices_char[index]\n",
        "  return sentence\n",
        "print(\"Predicted Jane, but its William's\")\n",
        "for i, oneHotSentence in enumerate(X_test[FN]):\n",
        "  print(f'{i}: {onehotToText(oneHotSentence)}')\n",
        "print(\"Predicted William, but its Jane's\")\n",
        "for i, oneHotSentence in enumerate(X_test[FP]):\n",
        "  print(f'{i}: {onehotToText(oneHotSentence)}')"
      ],
      "execution_count": 11,
      "outputs": [
        {
          "output_type": "stream",
          "text": [
            "\n",
            "Confusion matrix: \n"
          ],
          "name": "stdout"
        },
        {
          "output_type": "display_data",
          "data": {
            "image/png": "[encoded data removed]",
            "text/plain": [
              "<Figure size 720x720 with 2 Axes>"
            ]
          },
          "metadata": {
            "tags": [],
            "needs_background": "light"
          }
        },
        {
          "output_type": "stream",
          "text": [
            "Predicted Jane, but its William's\n",
            "0: oyalties. special rules, set forth in thegeneral terms of use part of this license, apply \n",
            "1: s will replace the previous one--the old editions will berenamed.creating the works from p\n",
            "2: her part of the islandenter alonso, sebastian, antonio, gonzalo, adrian, francisco, andoth\n",
            "Predicted William, but its Jane's\n",
            "0:  read asfollows:                                    “bond street, january.        my dear \n",
            "1:    spared, had not my character required it to be written and read.     you must, therefor\n",
            "2: our    brother has gained my affections entirely, and as we could not live    without one \n"
          ],
          "name": "stdout"
        }
      ]
    }
  ]
}